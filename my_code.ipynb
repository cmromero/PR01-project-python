{
 "cells": [
  {
   "cell_type": "code",
   "execution_count": 3,
   "id": "e7339f9e",
   "metadata": {},
   "outputs": [],
   "source": [
    "import random\n",
    "import time"
   ]
  },
  {
   "cell_type": "markdown",
   "id": "4d097af3",
   "metadata": {},
   "source": [
    "## Borradores"
   ]
  },
  {
   "cell_type": "code",
   "execution_count": 10,
   "id": "04efb949",
   "metadata": {},
   "outputs": [],
   "source": [
    "#diccionario con los jugadores disponibles\n",
    "personajes= {'player1':'Seong Gi-hun (AKA \"El prota\")', \n",
    "             'player2':'Cho Sang-woo (AKA \"El banquero\")',\n",
    "             'player3':'Kang Sae-byeok (AKA \"La norcoreana\")',\n",
    "             'player4':'Oh Il-nam (AKA \"El viejo)\"',\n",
    "             'player5':'Jang Deok-Su (AKA \"El malo\")'\n",
    "            }\n",
    "rivales={}"
   ]
  },
  {
   "cell_type": "code",
   "execution_count": 17,
   "id": "29f3890c",
   "metadata": {},
   "outputs": [],
   "source": [
    "x='player1'\n",
    "player=\"\""
   ]
  },
  {
   "cell_type": "code",
   "execution_count": 14,
   "id": "fb5b890c",
   "metadata": {},
   "outputs": [
    {
     "data": {
      "text/plain": [
       "True"
      ]
     },
     "execution_count": 14,
     "metadata": {},
     "output_type": "execute_result"
    }
   ],
   "source": [
    "x in personajes.keys()\n",
    "#personajes.get(x)"
   ]
  },
  {
   "cell_type": "code",
   "execution_count": 48,
   "id": "0fafbefe",
   "metadata": {},
   "outputs": [],
   "source": [
    "#chequear selección personaje\n",
    "\n",
    "\n",
    "def selec_player():\n",
    "    while True:\n",
    "        try:\n",
    "            p = input('Selecciona tu personaje escribiendo: \"player + num. jugador\"')\n",
    "            if isinstance(p, str) and p in personajes.keys():\n",
    "                break\n",
    "        except:\n",
    "            pass\n",
    "        \n",
    "    return personajes.get(p)\n",
    "\n",
    "  "
   ]
  },
  {
   "cell_type": "code",
   "execution_count": 7,
   "id": "2e753ec7",
   "metadata": {},
   "outputs": [],
   "source": [
    "#chequear selección rival\n",
    "\n",
    "def selec_rival(player):\n",
    "    while True:\n",
    "        try:\n",
    "            r = input('Selecciona tu rival escribiendo: \"player + num. jugador\"')\n",
    "            if isinstance(r, str) and r in {key:val for key,val in self.personajes.items() if val != player}.keys():\n",
    "                break\n",
    "        except:\n",
    "            pass\n",
    "    \n",
    "    return {key:val for key,val in self.personajes.items() if val != player}.get(r)"
   ]
  },
  {
   "cell_type": "code",
   "execution_count": null,
   "id": "7ddbc600",
   "metadata": {},
   "outputs": [
    {
     "name": "stdout",
     "output_type": "stream",
     "text": [
      "Selecciona tu rival escribiendo: \"player + num. jugador\"jugador2\n"
     ]
    }
   ],
   "source": [
    "selec_rival()"
   ]
  },
  {
   "cell_type": "code",
   "execution_count": 50,
   "id": "aa764f37",
   "metadata": {},
   "outputs": [
    {
     "name": "stdout",
     "output_type": "stream",
     "text": [
      "Antes de empezar elije que personaje quieres ser de la siguiente lista:\n",
      "{'player1': 'Seong Gi-hun (AKA \"El prota\")', 'player2': 'Cho Sang-woo (AKA \"El banquero\")', 'player3': 'Kang Sae-byeok (AKA \"La norcoreana\")', 'player4': 'Oh Il-nam (AKA \"El viejo)\"', 'player5': 'Jang Deok-Su (AKA \"El malo\")'}\n",
      "Selecciona tu personaje escribiendo: \"player + num. jugador\"player1\n",
      "Bienvenido/a Seong Gi-hun (AKA \"El prota\")! Ahora debes seleccionar tu rival de los jugadores que quedan.\n",
      "{'player2': 'Cho Sang-woo (AKA \"El banquero\")', 'player3': 'Kang Sae-byeok (AKA \"La norcoreana\")', 'player4': 'Oh Il-nam (AKA \"El viejo)\"', 'player5': 'Jang Deok-Su (AKA \"El malo\")'}\n",
      "Selecciona tu rival escribiendo: \"player + num. jugador\"player2\n",
      "Seong Gi-hun (AKA \"El prota\") se enfrentará a Cho Sang-woo (AKA \"El banquero\"). Cada jugador cuenta con 10 canicas iniciales. En unos segundos se decidirá quien empieza la partida\n"
     ]
    }
   ],
   "source": [
    "#Bienvenida\n",
    "\n",
    "print(f'Antes de empezar elije que personaje quieres ser de la siguiente lista:')\n",
    "time.sleep(2)\n",
    "print(personajes)\n",
    "time.sleep(2)\n",
    "player=selec_player()\n",
    "rivales={key:val for key,val in personajes.items() if val != player}\n",
    "print(f'Bienvenido/a {player}! Ahora debes seleccionar tu rival de los jugadores que quedan.')\n",
    "time.sleep(2)\n",
    "print(rivales)\n",
    "time.sleep(2)\n",
    "rival=selec_rival()\n",
    "print(f'{player} se enfrentará a {rival}. Cada jugador cuenta con 10 canicas iniciales. En unos segundos se decidirá quien empieza la partida')"
   ]
  },
  {
   "cell_type": "code",
   "execution_count": 106,
   "id": "f716c80e",
   "metadata": {},
   "outputs": [],
   "source": [
    "canicasrival=10\n",
    "def apuesta_rival():\n",
    "    return random.randint(1,canicasrival)"
   ]
  },
  {
   "cell_type": "code",
   "execution_count": 107,
   "id": "bc640583",
   "metadata": {},
   "outputs": [
    {
     "data": {
      "text/plain": [
       "2"
      ]
     },
     "execution_count": 107,
     "metadata": {},
     "output_type": "execute_result"
    }
   ],
   "source": [
    "apuesta_rival()"
   ]
  },
  {
   "cell_type": "code",
   "execution_count": 104,
   "id": "ece6a03f",
   "metadata": {},
   "outputs": [],
   "source": [
    "def mano_rival():\n",
    "        return \"\".join(random.choices([\"P\",\"I\"]))"
   ]
  },
  {
   "cell_type": "code",
   "execution_count": 105,
   "id": "10c546d5",
   "metadata": {},
   "outputs": [
    {
     "data": {
      "text/plain": [
       "'I'"
      ]
     },
     "execution_count": 105,
     "metadata": {},
     "output_type": "execute_result"
    }
   ],
   "source": [
    "mano_rival()"
   ]
  },
  {
   "cell_type": "code",
   "execution_count": 93,
   "id": "fa1422d2",
   "metadata": {},
   "outputs": [],
   "source": [
    " def apuesta_player(miscanicas):\n",
    "        while True:\n",
    "            try:\n",
    "                miapuesta=int(input(f'Decide cuantas canicas de tus {miscanicas} quieres apostar'))\n",
    "                if isinstance(miapuesta, int) and miapuesta <= miscanicas:\n",
    "                    break\n",
    "            except:\n",
    "                pass\n",
    "            \n",
    "        return miapuesta"
   ]
  },
  {
   "cell_type": "code",
   "execution_count": 69,
   "id": "074a35cc",
   "metadata": {},
   "outputs": [
    {
     "name": "stdout",
     "output_type": "stream",
     "text": [
      "Decide cuantas canicas de tus 10 quieres apostar10\n"
     ]
    },
    {
     "data": {
      "text/plain": [
       "10"
      ]
     },
     "execution_count": 69,
     "metadata": {},
     "output_type": "execute_result"
    }
   ],
   "source": [
    "apuesta_player(10)\n"
   ]
  },
  {
   "cell_type": "code",
   "execution_count": 64,
   "id": "13c813bd",
   "metadata": {},
   "outputs": [
    {
     "ename": "NameError",
     "evalue": "name 'miapuesta' is not defined",
     "output_type": "error",
     "traceback": [
      "\u001b[1;31m---------------------------------------------------------------------------\u001b[0m",
      "\u001b[1;31mNameError\u001b[0m                                 Traceback (most recent call last)",
      "\u001b[1;32m<ipython-input-64-1df55b86ebd9>\u001b[0m in \u001b[0;36m<module>\u001b[1;34m\u001b[0m\n\u001b[1;32m----> 1\u001b[1;33m \u001b[0mmiapuesta\u001b[0m\u001b[1;33m\u001b[0m\u001b[1;33m\u001b[0m\u001b[0m\n\u001b[0m",
      "\u001b[1;31mNameError\u001b[0m: name 'miapuesta' is not defined"
     ]
    }
   ],
   "source": [
    "miapuesta"
   ]
  },
  {
   "cell_type": "code",
   "execution_count": 11,
   "id": "501ccbe3",
   "metadata": {},
   "outputs": [
    {
     "data": {
      "text/plain": [
       "1"
      ]
     },
     "execution_count": 11,
     "metadata": {},
     "output_type": "execute_result"
    }
   ],
   "source": [
    "min(1,2)"
   ]
  },
  {
   "cell_type": "markdown",
   "id": "c3ebb3ab",
   "metadata": {},
   "source": [
    "## Código principal"
   ]
  },
  {
   "cell_type": "code",
   "execution_count": 4,
   "id": "1903dfe9",
   "metadata": {},
   "outputs": [],
   "source": [
    "class Juego:\n",
    "    def __init__(self,personajes=None, miscanicas=0, canicasrival=0):\n",
    "        self.personajes={'player1':'Seong Gi-hun (AKA \"El prota\")', \n",
    "             'player2':'Cho Sang-woo (AKA \"El banquero\")',\n",
    "             'player3':'Kang Sae-byeok (AKA \"La norcoreana\")',\n",
    "             'player4':'Oh Il-nam (AKA \"El viejo)\"',\n",
    "             'player5':'Jang Deok-Su (AKA \"El malo\")'\n",
    "            }\n",
    "        \n",
    "    \n",
    "    def quien_empieza(self,player=None,rival=None):\n",
    "        '''Decide al azar que jugador empieza el juegp'''\n",
    "        self.player=player\n",
    "        self.rival=rival\n",
    "        if random.randint(0,1)==0:\n",
    "            return player\n",
    "        else:\n",
    "            return rival\n",
    "    \n",
    "    def mano_rival(self):\n",
    "        '''Decide al azar la eleccion Par o Impar del rival'''\n",
    "        return \"\".join(random.choices([\"P\",\"I\"]))\n",
    "    \n",
    "    def mi_mano(self):\n",
    "        '''Pide al jugador la eleccion Par o Impar'''\n",
    "        while True:\n",
    "            try:\n",
    "                mimano=input(f'Decide si el número de canicas que vas ha tener en tu mano es PAR (P) o IMPAR (I)').upper()\n",
    "                if mimano == \"I\" or mimano==\"P\":\n",
    "                    break\n",
    "            except:\n",
    "                pass\n",
    "            \n",
    "        return mimano\n",
    "        \n",
    "    \n",
    "    def apuesta_rival(self,canicasrival,miscanicas):\n",
    "        '''Da un numero al azar en 1 y el máximo de canica que CPU puede apostar'''\n",
    "        apuesta_cpu=random.randint(1,min(canicasrival,miscanicas))\n",
    "        print(f'Tu rival se ha apostado {apuesta_cpu} canica/s')\n",
    "        return apuesta_cpu\n",
    "            \n",
    "    \n",
    "    def selec_player(self):\n",
    "        '''Se le pide al jugador seleccionar su personaje de la lista \n",
    "        y devuelve el valor que tiene en el diccionario de personajes '''\n",
    "        while True:\n",
    "            try:\n",
    "                p = input('Selecciona tu personaje escribiendo: \"player + num. jugador\"')\n",
    "                if isinstance(p, str) and p in self.personajes.keys():\n",
    "                    break\n",
    "            except:\n",
    "                pass\n",
    "\n",
    "        return self.personajes.get(p)\n",
    "    \n",
    "    def selec_rival(self,player):\n",
    "        '''Se le pide al jugador seleccionar su rival de la (lista de personajes - el personaje ya escogido)\n",
    "        y devuelve el valor que tiene en el diccionario de personajes '''\n",
    "        #self.player=player\n",
    "        while True:\n",
    "            try:\n",
    "                r = input('Selecciona tu rival escribiendo: \"player + num. jugador\"')\n",
    "                if isinstance(r, str) and r in {key:val for key,val in self.personajes.items() if val != player}.keys():\n",
    "                    break\n",
    "            except:\n",
    "                pass\n",
    "\n",
    "        return {key:val for key,val in self.personajes.items() if val != player}.get(r)\n",
    "    \n",
    "    def apuesta_player(self,miscanicas,canicasrival):\n",
    "        '''Pide al jugado el número de canicas a apostar'''\n",
    "        while True:\n",
    "            try:\n",
    "                miapuesta=int(input(f'Decide cuantas canicas de tus {miscanicas} quieres apostar (deben ser <= a las canicas de tu rival)'))\n",
    "                if isinstance(miapuesta, int) and miapuesta <= miscanicas and miapuesta <= canicasrival:\n",
    "                    break\n",
    "            except:\n",
    "                pass\n",
    "            \n",
    "        print(f'Has apostado {miapuesta} canica/s')\n",
    "        return miapuesta\n",
    "    \n",
    "    def gess_mano_rival(self):\n",
    "        '''Pide al jugador que diga un número Par o Impar'''\n",
    "        while True:\n",
    "            try:\n",
    "                migess=input(f'Decide si el número de canicas que hay en la mano de tu rival es PAR (P) o IMPAR (I)').upper()\n",
    "                if migess == \"I\" or migess==\"P\":\n",
    "                    break\n",
    "            except:\n",
    "                pass\n",
    "            \n",
    "        return migess\n",
    "    \n",
    "    def turno_player(self,miapuesta):\n",
    "        '''Ejecuta el turno del jugador'''\n",
    "        migess=self.gess_mano_rival()\n",
    "        mano_rival=self.mano_rival()\n",
    "        if migess==mano_rival:            \n",
    "            resultado=miapuesta              \n",
    "        else:            \n",
    "            resultado=-1*(miapuesta)\n",
    "        \n",
    "        time.sleep(1)\n",
    "        print(f'El rival tenia un número {mano_rival}')\n",
    "        \n",
    "        return resultado\n",
    "            \n",
    "    def turno_cpu(self,suapuesta):\n",
    "        '''Ejecuta el turno de la máquina'''\n",
    "        mimano=self.mi_mano()\n",
    "        cpugess=self.mano_rival()\n",
    "        if mimano==cpugess:\n",
    "            resultado=suapuesta\n",
    "        else:\n",
    "            resultado=-1*(suapuesta)\n",
    "        \n",
    "        time.sleep(1)\n",
    "        print(f'El rival ha dicho {cpugess}')\n",
    "        \n",
    "        return resultado        \n",
    "        \n",
    "        \n",
    "    \n",
    "    def jugar(self):\n",
    "        '''Da la bienvenida y invita al jugador a que\n",
    "            elija su personaje y su rival. Despúes ejecuta el juego'''\n",
    "        \n",
    "        print(f'Antes de empezar elije que personaje quieres ser de la siguiente lista:')\n",
    "        time.sleep(1)\n",
    "        print(self.personajes)\n",
    "        time.sleep(1)\n",
    "        player= self.selec_player() #llamada a la función selec_player\n",
    "        print(f'Bienvenido/a {player}! Ahora debes seleccionar tu rival de los jugadores que quedan.')\n",
    "        time.sleep(1)\n",
    "        print({key:val for key,val in self.personajes.items() if val != player})\n",
    "        time.sleep(1)\n",
    "        rival=self.selec_rival(player)\n",
    "        print(f'{player} se enfrentará a {rival}. Cada jugador cuenta con 10 canicas iniciales. En unos segundos se decidirá quien empieza la partida')\n",
    "        time.sleep(3)\n",
    "        primero=self.quien_empieza(player,rival)\n",
    "        print(f'El azar ha decidido que empiece {primero}')\n",
    "        miscanicas=10\n",
    "        canicasrival=10\n",
    "        if primero==player:\n",
    "            while miscanicas>0 and canicasrival >0:\n",
    "                \n",
    "                miapuesta=self.apuesta_player(miscanicas,canicasrival) #llamada a funcion apuesta_player\n",
    "                resultado=self.turno_player(miapuesta) #llamada a funcion turno_player que a su vez llama a función gess.mano_rival\n",
    "                time.sleep(0.5)\n",
    "                if resultado>0:\n",
    "                    print(f'Felicidades has ganado esta ronda')\n",
    "                else:\n",
    "                    print(f'Lamentablemente has perdido esta ronda')\n",
    "                miscanicas += resultado       #actualizacion de canicas disponibles para jugador y rival\n",
    "                canicasrival -= resultado\n",
    "                if miscanicas==0 or canicasrival==0:     #si alguno se ha quedado sin canicas ir a final del juego\n",
    "                    break\n",
    "                else:\n",
    "                    time.sleep(0.5)\n",
    "                    print(f'Te quedan {miscanicas} canicas y a tu rival le quedan {canicasrival}.')\n",
    "                    suapuesta=self.apuesta_rival(canicasrival,miscanicas) #llamada a funcion apuesta_rival\n",
    "                    resultado=self.turno_cpu(suapuesta) #llamada a funcion turno_rival que a su vez llama a función mi_mano\n",
    "                    time.sleep(0.5)\n",
    "                    if resultado>0:\n",
    "                        print(f'{rival} ha ganado esta ronda.')\n",
    "                    else:\n",
    "                        print(f'{rival} ha perdido esta ronda.')\n",
    "                    miscanicas -= resultado      #actualizacion de canicas disponibles para jugador y rival\n",
    "                    canicasrival += resultado\n",
    "                    time.sleep(0.5)\n",
    "                    print(f'Te quedan {miscanicas} canicas y a tu rival le quedan {canicasrival}.')\n",
    "        else:\n",
    "            while miscanicas>0 and canicasrival >0:\n",
    "                suapuesta=self.apuesta_rival(canicasrival,miscanicas)\n",
    "                resultado=self.turno_cpu(suapuesta)\n",
    "                time.sleep(0.5)\n",
    "                if resultado>0:\n",
    "                    print(f'{rival} ha ganado esta ronda.')\n",
    "                else:\n",
    "                    print(f'{rival} ha perdido esta ronda.')\n",
    "                miscanicas -= resultado\n",
    "                canicasrival += resultado\n",
    "                if miscanicas==0 or canicasrival==0:  #si alguno se ha quedado sin canicas ir a final del juego\n",
    "                    break\n",
    "                else:\n",
    "                    time.sleep(0.5)\n",
    "                    print(f'Te quedan {miscanicas} canica/s y a tu rival le quedan {canicasrival}.')\n",
    "                    miapuesta=self.apuesta_player(miscanicas,canicasrival)\n",
    "                    resultado=self.turno_player(miapuesta)\n",
    "                    time.sleep(0.5)\n",
    "                    if resultado>0:\n",
    "                        print(f'Felicidades has ganado esta ronda')\n",
    "                    else:\n",
    "                        print(f'Lamentablemente has perdido esta ronda')\n",
    "                    miscanicas += resultado\n",
    "                    canicasrival -= resultado\n",
    "                    time.sleep(0.5)\n",
    "                    print(f'Te quedan {miscanicas} canica/s y a tu rival le quedan {canicasrival}.')\n",
    "        \n",
    "        if miscanicas==0:\n",
    "            time.sleep(1)\n",
    "            print(f'Desafortunadament te has quedado sin caninas, por tanto estás muerto. Pasa al siguiente juego {rival}')\n",
    "        else:\n",
    "            time.sleep(1)\n",
    "            print(f'Enhorabuena has ganado! {rival} ha muerto. {player} pasa al siguiente juego.')\n",
    "                  \n",
    "                \n",
    "        \n",
    "            \n",
    "\n",
    "    "
   ]
  },
  {
   "cell_type": "code",
   "execution_count": 5,
   "id": "d063435e",
   "metadata": {},
   "outputs": [],
   "source": [
    "partida= Juego()"
   ]
  },
  {
   "cell_type": "code",
   "execution_count": 6,
   "id": "81463e45",
   "metadata": {},
   "outputs": [
    {
     "name": "stdout",
     "output_type": "stream",
     "text": [
      "Antes de empezar elije que personaje quieres ser de la siguiente lista:\n",
      "{'player1': 'Seong Gi-hun (AKA \"El prota\")', 'player2': 'Cho Sang-woo (AKA \"El banquero\")', 'player3': 'Kang Sae-byeok (AKA \"La norcoreana\")', 'player4': 'Oh Il-nam (AKA \"El viejo)\"', 'player5': 'Jang Deok-Su (AKA \"El malo\")'}\n",
      "Selecciona tu personaje escribiendo: \"player + num. jugador\"player1\n",
      "Bienvenido/a Seong Gi-hun (AKA \"El prota\")! Ahora debes seleccionar tu rival de los jugadores que quedan.\n",
      "{'player2': 'Cho Sang-woo (AKA \"El banquero\")', 'player3': 'Kang Sae-byeok (AKA \"La norcoreana\")', 'player4': 'Oh Il-nam (AKA \"El viejo)\"', 'player5': 'Jang Deok-Su (AKA \"El malo\")'}\n",
      "Selecciona tu rival escribiendo: \"player + num. jugador\"player2\n",
      "Seong Gi-hun (AKA \"El prota\") se enfrentará a Cho Sang-woo (AKA \"El banquero\"). Cada jugador cuenta con 10 canicas iniciales. En unos segundos se decidirá quien empieza la partida\n",
      "El azar ha decidido que empiece Seong Gi-hun (AKA \"El prota\")\n",
      "Decide cuantas canicas de tus 10 quieres apostar (deben ser <= a las canicas de tu rival)8\n",
      "Has apostado 8 canica/s\n",
      "Decide si el número de canicas que hay en la mano de tu rival es PAR (P) o IMPAR (I)p\n",
      "El rival tenia un número I\n",
      "Lamentablemente has perdido esta ronda\n",
      "Te quedan 2 canicas y a tu rival le quedan 18.\n",
      "Tu rival se ha apostado 2 canica/s\n",
      "Decide si el número de canicas que vas ha tener en tu mano es PAR (P) o IMPAR (I)i\n",
      "El rival ha dicho I\n",
      "Cho Sang-woo (AKA \"El banquero\") ha ganado esta ronda.\n",
      "Te quedan 0 canicas y a tu rival le quedan 20.\n",
      "Desafortunadament te has quedado sin caninas, por tanto estás muerto. Pasa al siguiente juego Cho Sang-woo (AKA \"El banquero\")\n"
     ]
    }
   ],
   "source": [
    "partida.jugar()"
   ]
  },
  {
   "cell_type": "code",
   "execution_count": null,
   "id": "6517f4ba",
   "metadata": {},
   "outputs": [],
   "source": []
  },
  {
   "cell_type": "code",
   "execution_count": null,
   "id": "f52d05fd",
   "metadata": {},
   "outputs": [],
   "source": []
  }
 ],
 "metadata": {
  "kernelspec": {
   "display_name": "Python 3",
   "language": "python",
   "name": "python3"
  },
  "language_info": {
   "codemirror_mode": {
    "name": "ipython",
    "version": 3
   },
   "file_extension": ".py",
   "mimetype": "text/x-python",
   "name": "python",
   "nbconvert_exporter": "python",
   "pygments_lexer": "ipython3",
   "version": "3.8.8"
  }
 },
 "nbformat": 4,
 "nbformat_minor": 5
}
